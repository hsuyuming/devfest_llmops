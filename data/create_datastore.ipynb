{
 "cells": [
  {
   "cell_type": "code",
   "execution_count": 1,
   "metadata": {},
   "outputs": [],
   "source": [
    "from google.cloud import discoveryengine_v1beta as discoveryengine\n",
    "from google.api_core.client_options import ClientOptions\n",
    "from google.protobuf.json_format import MessageToDict\n",
    "import json\n",
    "from typing import Optional"
   ]
  },
  {
   "cell_type": "code",
   "execution_count": 2,
   "metadata": {},
   "outputs": [],
   "source": [
    "location=\"us\"\n",
    "project_id=\"<project>\"\n",
    "collection=\"default_collection\"\n",
    "data_store_id=\"google-devfest-llmops\"\n",
    "engine_id = \"google-devfest-llmops-app\"\n",
    "metadata_jsonl_gcs_location = \"gs://<bucket>/google_devtest/google_devfest_metadata.jsonl\""
   ]
  },
  {
   "cell_type": "code",
   "execution_count": 8,
   "metadata": {},
   "outputs": [],
   "source": [
    "def create_datastore(\n",
    "    project_id: str,\n",
    "    location: str,\n",
    "    data_store_id: str,\n",
    "    collection_id=\"default_collection\",\n",
    "    starting_schema: discoveryengine.Schema = None,\n",
    "    document_processing_config: discoveryengine.DocumentProcessingConfig= None\n",
    "):\n",
    "    \n",
    "    client_options = (\n",
    "        ClientOptions(api_endpoint=f\"{location}-discoveryengine.googleapis.com\")\n",
    "        if location != \"global\"\n",
    "        else None\n",
    "    )\n",
    "    client = discoveryengine.DataStoreServiceClient(client_options=client_options)\n",
    "\n",
    "    request = discoveryengine.CreateDataStoreRequest(\n",
    "        parent=f\"projects/{project_id}/locations/{location}/collections/{collection_id}\",\n",
    "        data_store=discoveryengine.DataStore(\n",
    "            name=f\"projects/{project_id}/locations/{location}/collections/{collection_id}/dataStores/{data_store_id}\",\n",
    "            display_name=data_store_id,\n",
    "            industry_vertical=discoveryengine.IndustryVertical.GENERIC,\n",
    "            solution_types=[discoveryengine.SolutionType.SOLUTION_TYPE_SEARCH],\n",
    "            content_config=discoveryengine.DataStore.ContentConfig.CONTENT_REQUIRED,\n",
    "            document_processing_config=document_processing_config,\n",
    "            starting_schema=starting_schema\n",
    "        ),\n",
    "        data_store_id=data_store_id\n",
    "    )\n",
    "    response = client.create_data_store(request=request)\n",
    "    return response "
   ]
  },
  {
   "cell_type": "markdown",
   "metadata": {},
   "source": [
    "### Generate the schema definition, i also mark file_name's keyPropertyMapping as title"
   ]
  },
  {
   "cell_type": "code",
   "execution_count": 11,
   "metadata": {},
   "outputs": [],
   "source": [
    "schema_definition = {\n",
    "    '$schema': 'https://json-schema.org/draft/2020-12/schema',\n",
    "    'type': 'object',\n",
    "    'properties': {\n",
    "        'file_name': {\n",
    "            'indexable': True,\n",
    "            'type': 'string',\n",
    "            'retrievable': True,\n",
    "            'searchable': True,\n",
    "        },\n",
    "        'file_name_2': {\n",
    "            'type': 'string',\n",
    "            'keyPropertyMapping': 'title',\n",
    "            'retrievable': True\n",
    "        },\n",
    "        'last_modified_unix_time': {\n",
    "            'indexable': True,\n",
    "            'type': 'number',\n",
    "            'dynamicFacetable': True,\n",
    "            'retrievable': True\n",
    "        },\n",
    "        'file_type': {\n",
    "            'indexable': True,\n",
    "            'type': 'string',\n",
    "            'searchable': True,\n",
    "            'dynamicFacetable': True,\n",
    "            'retrievable': True\n",
    "        },\n",
    "        'etl_created': {\n",
    "            'indexable': True,\n",
    "            'type': 'string',\n",
    "            'searchable': True,\n",
    "            'dynamicFacetable': True,\n",
    "            'retrievable': True\n",
    "        },\n",
    "        'last_modified_time': {\n",
    "            'indexable': True,\n",
    "            'type': 'string',\n",
    "            'searchable': True,\n",
    "            'dynamicFacetable': True,\n",
    "            'retrievable': True\n",
    "        },\n",
    "        'etl_updated': {\n",
    "            'indexable': True,\n",
    "            'type': 'string',\n",
    "            'searchable': True,\n",
    "            'dynamicFacetable': True,\n",
    "            'retrievable': True\n",
    "        },\n",
    "        'doc_type': {\n",
    "            'indexable': True,\n",
    "            'type': 'string',\n",
    "            'searchable': True,\n",
    "            'dynamicFacetable': True,\n",
    "            'retrievable': True\n",
    "        },\n",
    "        'deleted': {\n",
    "            'indexable': True,\n",
    "            'type': 'string',\n",
    "            'searchable': True,\n",
    "            'dynamicFacetable': True,\n",
    "            'retrievable': True\n",
    "        }   \n",
    "    }\n",
    "}\n",
    "\n",
    "schema_definition = json.dumps(schema_definition)\n",
    "\n",
    "schema = discoveryengine.Schema(\n",
    "    json_schema=schema_definition,\n",
    "    name=\"default_schema\"\n",
    ")"
   ]
  },
  {
   "cell_type": "markdown",
   "metadata": {},
   "source": [
    "### Define which parser we would like to use for datastore"
   ]
  },
  {
   "cell_type": "code",
   "execution_count": 9,
   "metadata": {},
   "outputs": [],
   "source": [
    "document_processing_config = discoveryengine.DocumentProcessingConfig(\n",
    "    name=f\"projects/{project_id}/locations/{location}/collections/{collection}/dataStores/{data_store_id}/documentProcessingConfig\",\n",
    "    default_parsing_config= discoveryengine.DocumentProcessingConfig.ParsingConfig(\n",
    "        layout_parsing_config = {\n",
    "        },\n",
    "        # digital_parsing_config = {\n",
    "        # }\n",
    "    ),\n",
    "    chunking_config=discoveryengine.DocumentProcessingConfig.ChunkingConfig(\n",
    "        {\n",
    "            \"layout_based_chunking_config\": {\n",
    "                \"chunk_size\": 500,\n",
    "                \"include_ancestor_headings\": True\n",
    "            }\n",
    "        }\n",
    "    )\n",
    ")"
   ]
  },
  {
   "cell_type": "markdown",
   "metadata": {},
   "source": [
    "### Create datastore"
   ]
  },
  {
   "cell_type": "code",
   "execution_count": 12,
   "metadata": {},
   "outputs": [],
   "source": [
    "response = create_datastore(\n",
    "    project_id=project_id,\n",
    "    location=location,\n",
    "    data_store_id=data_store_id,\n",
    "    collection_id=\"default_collection\",\n",
    "    starting_schema=schema,\n",
    "    document_processing_config=document_processing_config\n",
    ")"
   ]
  },
  {
   "cell_type": "markdown",
   "metadata": {},
   "source": [
    "Reference: https://cloud.google.com/generative-ai-app-builder/docs/reference/rest/v1beta/projects.locations.collections.dataStores#DataStore"
   ]
  },
  {
   "cell_type": "code",
   "execution_count": null,
   "metadata": {},
   "outputs": [],
   "source": [
    "# curl -X POST \\\n",
    "# -H \"Authorization: Bearer $(gcloud auth print-access-token)\" \\\n",
    "# -H \"Content-Type: application/json\" \\\n",
    "# -H \"X-Goog-User-Project: <project>\" \\\n",
    "# \"https://us-discoveryengine.googleapis.com/v1/projects/<project>/locations/us/collections/default_collection/dataStores?dataStoreId=searchbkm-dev-datastore-v8-layout-tableunderstanding\" \\\n",
    "# -d '{\n",
    "#   \"name\": \"projects/<project>/locations/us/collections/default_collection/dataStores/searchbkm-dev-datastore-v8-layout-tableunderstanding\",\n",
    "#   \"displayName\": \"searchbkm-dev-datastore-v8-layout-tableunderstanding\",\n",
    "#   \"industryVertical\": \"GENERIC\",\n",
    "#   \"solutionTypes\": [\"SOLUTION_TYPE_SEARCH\"],\n",
    "#   \"contentConfig\": \"CONTENT_REQUIRED\",\n",
    "#   \"document_processing_config\": {\n",
    "#     \"name\": \"projects/<project>/locations/us/collections/default_collection/dataStores/searchbkm-dev-datastore-v8-layout-tableunderstanding/documentProcessingConfig\",\n",
    "#     \"defaultParsingConfig\":{\n",
    "#       \"layoutParsingConfig\": {\n",
    "#         \"enableImageAnnotation\": true,\n",
    "#         \"enableTableAnnotation\": true,\n",
    "#       }\n",
    "#     },\n",
    "#     \"chunkingConfig\": {\n",
    "#       \"layoutBasedChunkingConfig\": {\n",
    "#             \"chunkSize\": 500,\n",
    "#             \"includeAncestorHeadings\": true\n",
    "#         }\n",
    "#     }\n",
    "#   },\n",
    "#   \"startingSchema\": {\n",
    "#     \"name\": \"default_schema\",\n",
    "#     \"jsonSchema\": \"{\\\"$schema\\\": \\\"https://json-schema.org/draft/2020-12/schema\\\", \\\"type\\\": \\\"object\\\", \\\"properties\\\": {\\\"file_name\\\": {\\\"indexable\\\": true, \\\"type\\\": \\\"string\\\", \\\"retrievable\\\": true, \\\"searchable\\\": true}, \\\"file_name_pso\\\": {\\\"type\\\": \\\"string\\\", \\\"keyPropertyMapping\\\": \\\"title\\\", \\\"retrievable\\\": true}, \\\"url\\\": {\\\"indexable\\\": true, \\\"type\\\": \\\"string\\\", \\\"searchable\\\": true, \\\"dynamicFacetable\\\": true, \\\"retrievable\\\": true}, \\\"last_modified_unix_time\\\": {\\\"indexable\\\": true, \\\"type\\\": \\\"number\\\", \\\"dynamicFacetable\\\": true, \\\"retrievable\\\": true}, \\\"filesize_mb\\\": {\\\"indexable\\\": true, \\\"type\\\": \\\"string\\\", \\\"searchable\\\": true, \\\"dynamicFacetable\\\": true, \\\"retrievable\\\": true}, \\\"server_redirected_preview_url\\\": {\\\"indexable\\\": true, \\\"type\\\": \\\"string\\\", \\\"searchable\\\": true, \\\"dynamicFacetable\\\": true, \\\"retrievable\\\": true}, \\\"doc_id\\\": {\\\"indexable\\\": true, \\\"type\\\": \\\"string\\\", \\\"searchable\\\": true, \\\"dynamicFacetable\\\": true, \\\"retrievable\\\": true}, \\\"language\\\": {\\\"indexable\\\": true, \\\"type\\\": \\\"string\\\", \\\"searchable\\\": true, \\\"dynamicFacetable\\\": true, \\\"retrievable\\\": true}, \\\"site_name\\\": {\\\"indexable\\\": true, \\\"type\\\": \\\"string\\\", \\\"searchable\\\": true, \\\"dynamicFacetable\\\": true, \\\"retrievable\\\": true}, \\\"file_type\\\": {\\\"indexable\\\": true, \\\"type\\\": \\\"string\\\", \\\"searchable\\\": true, \\\"dynamicFacetable\\\": true, \\\"retrievable\\\": true}, \\\"etl_created\\\": {\\\"indexable\\\": true, \\\"type\\\": \\\"string\\\", \\\"searchable\\\": true, \\\"dynamicFacetable\\\": true, \\\"retrievable\\\": true}, \\\"last_modified_time\\\": {\\\"indexable\\\": true, \\\"type\\\": \\\"string\\\", \\\"searchable\\\": true, \\\"dynamicFacetable\\\": true, \\\"retrievable\\\": true}, \\\"server_redirected_url\\\": {\\\"indexable\\\": true, \\\"type\\\": \\\"string\\\", \\\"searchable\\\": true, \\\"dynamicFacetable\\\": true, \\\"retrievable\\\": true}, \\\"pillar\\\": {\\\"indexable\\\": true, \\\"type\\\": \\\"string\\\", \\\"searchable\\\": true, \\\"dynamicFacetable\\\": true, \\\"retrievable\\\": true}, \\\"etl_updated\\\": {\\\"indexable\\\": true, \\\"type\\\": \\\"string\\\", \\\"searchable\\\": true, \\\"dynamicFacetable\\\": true, \\\"retrievable\\\": true}, \\\"author\\\": {\\\"indexable\\\": true, \\\"type\\\": \\\"string\\\", \\\"searchable\\\": true, \\\"dynamicFacetable\\\": true, \\\"retrievable\\\": true}, \\\"doc_type\\\": {\\\"indexable\\\": true, \\\"type\\\": \\\"string\\\", \\\"searchable\\\": true, \\\"dynamicFacetable\\\": true, \\\"retrievable\\\": true}, \\\"deleted\\\": {\\\"indexable\\\": true, \\\"type\\\": \\\"string\\\", \\\"searchable\\\": true, \\\"dynamicFacetable\\\": true, \\\"retrievable\\\": true}}}\"\n",
    "#   }\n",
    "# }'"
   ]
  },
  {
   "cell_type": "code",
   "execution_count": 13,
   "metadata": {},
   "outputs": [
    {
     "data": {
      "text/plain": [
       "True"
      ]
     },
     "execution_count": 13,
     "metadata": {},
     "output_type": "execute_result"
    }
   ],
   "source": [
    "response.operation.done"
   ]
  },
  {
   "cell_type": "code",
   "execution_count": 21,
   "metadata": {},
   "outputs": [],
   "source": [
    "def import_documents(\n",
    "    project_id: str,\n",
    "    location: str,\n",
    "    data_store_id: str,\n",
    "    gcs_uri: Optional[str] = None,\n",
    "    bigquery_dataset: Optional[str] = None,\n",
    "    bigquery_table: Optional[str] = None,\n",
    ") -> str:\n",
    "    #  For more information, refer to:\n",
    "    # https://cloud.google.com/generative-ai-app-builder/docs/locations#specify_a_multi-region_for_your_data_store\n",
    "    client_options = (\n",
    "        ClientOptions(api_endpoint=f\"{location}-discoveryengine.googleapis.com\")\n",
    "        if location != \"global\"\n",
    "        else None\n",
    "    )\n",
    "\n",
    "    # Create a client\n",
    "    client = discoveryengine.DocumentServiceClient(client_options=client_options)\n",
    "\n",
    "    # The full resource name of the search engine branch.\n",
    "    # e.g. projects/{project}/locations/{location}/dataStores/{data_store_id}/branches/{branch}\n",
    "    parent = client.branch_path(\n",
    "        project=project_id,\n",
    "        location=location,\n",
    "        data_store=data_store_id,\n",
    "        branch=\"default_branch\",\n",
    "    )\n",
    "\n",
    "    if gcs_uri:\n",
    "        request = discoveryengine.ImportDocumentsRequest(\n",
    "            parent=parent,\n",
    "            gcs_source=discoveryengine.GcsSource(\n",
    "                input_uris=[gcs_uri], data_schema=\"document\"\n",
    "            ),\n",
    "            # Options: `FULL`, `INCREMENTAL`\n",
    "            reconciliation_mode=discoveryengine.ImportDocumentsRequest.ReconciliationMode.INCREMENTAL,\n",
    "        )\n",
    "    else:\n",
    "        request = discoveryengine.ImportDocumentsRequest(\n",
    "            parent=parent,\n",
    "            bigquery_source=discoveryengine.BigQuerySource(\n",
    "                project_id=project_id,\n",
    "                dataset_id=bigquery_dataset,\n",
    "                table_id=bigquery_table,\n",
    "                data_schema=\"custom\",\n",
    "            ),\n",
    "            # Options: `FULL`, `INCREMENTAL`\n",
    "            reconciliation_mode=discoveryengine.ImportDocumentsRequest.ReconciliationMode.INCREMENTAL,\n",
    "        )\n",
    "\n",
    "    # Make the request\n",
    "    operation = client.import_documents(request=request)\n",
    "\n",
    "    return operation"
   ]
  },
  {
   "cell_type": "code",
   "execution_count": 22,
   "metadata": {},
   "outputs": [],
   "source": [
    "import_documents_operation = import_documents(\n",
    "    project_id=project_id,\n",
    "    location=location,\n",
    "    data_store_id=data_store_id,\n",
    "    gcs_uri=metadata_jsonl_gcs_location,\n",
    ")"
   ]
  },
  {
   "cell_type": "code",
   "execution_count": 18,
   "metadata": {},
   "outputs": [
    {
     "data": {
      "text/plain": [
       "'projects/329324204059/locations/us/collections/default_collection/dataStores/google-devfest-llmops/branches/0/operations/import-documents-544618397676509343'"
      ]
     },
     "execution_count": 18,
     "metadata": {},
     "output_type": "execute_result"
    }
   ],
   "source": [
    "import_documents_operation.operation.name"
   ]
  },
  {
   "cell_type": "markdown",
   "metadata": {},
   "source": [
    "### Create app"
   ]
  },
  {
   "cell_type": "code",
   "execution_count": 19,
   "metadata": {},
   "outputs": [],
   "source": [
    "def create_engine(\n",
    "        project:str, \n",
    "        location:str, \n",
    "        collection:str, \n",
    "        data_store_ids: str, \n",
    "        display_name:str,\n",
    "        engine_id: str\n",
    "):\n",
    "    \n",
    "    client_options = (\n",
    "        ClientOptions(api_endpoint=f\"{location}-discoveryengine.googleapis.com\")\n",
    "        if location != \"global\"\n",
    "        else None\n",
    "    )\n",
    "    \n",
    "    # Create a client\n",
    "    client = discoveryengine.EngineServiceClient(client_options=client_options)\n",
    "\n",
    "    # Initialize request argument(s)\n",
    "    engine = discoveryengine.Engine(\n",
    "        search_engine_config=discoveryengine.Engine.SearchEngineConfig(\n",
    "            search_tier=\"SEARCH_TIER_ENTERPRISE\",\n",
    "            search_add_ons=[\"SEARCH_ADD_ON_LLM\"]\n",
    "        )\n",
    "    )\n",
    "    engine.display_name = display_name\n",
    "    engine.solution_type = \"SOLUTION_TYPE_SEARCH\"\n",
    "    engine.data_store_ids=data_store_ids\n",
    "    request = discoveryengine.CreateEngineRequest(\n",
    "        parent=f\"projects/{project}/locations/{location}/collections/{collection}\",\n",
    "        engine=engine,\n",
    "        engine_id=engine_id,\n",
    "    )\n",
    "\n",
    "    # Make the request\n",
    "    operation = client.create_engine(request=request)\n",
    "\n",
    "    print(\"Waiting for operation to complete...\")\n",
    "\n",
    "    response = operation.result()\n",
    "\n",
    "    # Handle the response\n",
    "    print(response)"
   ]
  },
  {
   "cell_type": "code",
   "execution_count": 20,
   "metadata": {},
   "outputs": [
    {
     "name": "stdout",
     "output_type": "stream",
     "text": [
      "Waiting for operation to complete...\n",
      "name: \"projects/329324204059/locations/us/collections/default_collection/engines/google-devfest-llmops-app\"\n",
      "display_name: \"google-devfest-llmops-app\"\n",
      "data_store_ids: \"google-devfest-llmops\"\n",
      "solution_type: SOLUTION_TYPE_SEARCH\n",
      "search_engine_config {\n",
      "  search_tier: SEARCH_TIER_ENTERPRISE\n",
      "  search_add_ons: SEARCH_ADD_ON_LLM\n",
      "}\n",
      "\n"
     ]
    }
   ],
   "source": [
    "create_engine(\n",
    "    project=project_id,\n",
    "    location=location,\n",
    "    collection=\"default_collection\",\n",
    "    data_store_ids=[data_store_id],\n",
    "    display_name=engine_id,\n",
    "    engine_id=engine_id\n",
    ")"
   ]
  },
  {
   "cell_type": "code",
   "execution_count": null,
   "metadata": {},
   "outputs": [],
   "source": []
  }
 ],
 "metadata": {
  "environment": {
   "kernel": "python3",
   "name": "tf2-cpu.2-11.m123",
   "type": "gcloud",
   "uri": "us-docker.pkg.dev/deeplearning-platform-release/gcr.io/tf2-cpu.2-11:m123"
  },
  "kernelspec": {
   "display_name": "Python 3 (Local)",
   "language": "python",
   "name": "python3"
  },
  "language_info": {
   "codemirror_mode": {
    "name": "ipython",
    "version": 3
   },
   "file_extension": ".py",
   "mimetype": "text/x-python",
   "name": "python",
   "nbconvert_exporter": "python",
   "pygments_lexer": "ipython3",
   "version": "3.10.12"
  }
 },
 "nbformat": 4,
 "nbformat_minor": 4
}
